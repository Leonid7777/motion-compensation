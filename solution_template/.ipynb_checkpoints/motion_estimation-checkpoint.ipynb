{
 "cells": [
  {
   "cell_type": "markdown",
   "metadata": {},
   "source": [
    "# Методы сжатия и обработки видео"
   ]
  },
  {
   "cell_type": "markdown",
   "metadata": {},
   "source": [
    "Полезные ссылки:\n",
    "* [Telegram-канал](https://t.me/vgcourse)\n",
    "* [Документация pybind](https://pybind11.readthedocs.io/en/stable/)\n",
    "\n",
    "Понадобится для работы:\n",
    "* Pybind11: `conda install -c conda-forge pybind11` (если у вас [Anaconda](www.anaconda.com) или `pip install pybind11`)\n",
    "* Opencv2: `conda install -c conda-forge opencv` или `pip install opencv-python`) \n",
    "* C++ компилятор  \n",
    "\n",
    "*Если у вас не заработало что-то, смело пишите в чатик курса*"
   ]
  },
  {
   "cell_type": "markdown",
   "metadata": {},
   "source": [
    "## Задание 3. Motion Estimation ##"
   ]
  },
  {
   "cell_type": "markdown",
   "metadata": {},
   "source": [
    "Шаблон для выполнения задания состоит из нескольких частей\n",
    "\n",
    "1. Библиотека ME на C/C++, компилируемая для использования в python-коде. В основном писать код вам придётся именно в библиотеке. Чтобы скомпилировать библиотеку, запустите команду `python3 setup.py build_ext -i` в  корне папки с заданием. *Замечание. Это библиотека компилируется под C++, но внутри вам ничего не мешает писать код на чистом C.*\n",
    "2. Ipython notebook для тестирования библиотеки. Используйте этот код для оценки качества работы программы и её улучшения."
   ]
  },
  {
   "cell_type": "markdown",
   "metadata": {},
   "source": [
    "### 1. Основная часть ###"
   ]
  },
  {
   "cell_type": "markdown",
   "metadata": {},
   "source": [
    "Оценка качества работы алгоритма будет производиться следующим образом: на основе поля ME между двумя кадрами будет построен восстановленный кадр. Для оценивания качества будет использоваться PSNR между восстановленным и исходным кадром:"
   ]
  },
  {
   "cell_type": "markdown",
   "metadata": {},
   "source": [
    "<img src=\"images/me_example.png\">"
   ]
  },
  {
   "cell_type": "markdown",
   "metadata": {},
   "source": [
    "<img src=\"images/how_it_works.png\">"
   ]
  },
  {
   "cell_type": "markdown",
   "metadata": {},
   "source": [
    "Кроме того, ещё одним параметром работы будет являться **скорость работы**."
   ]
  },
  {
   "cell_type": "code",
   "execution_count": 3,
   "metadata": {},
   "outputs": [],
   "source": [
    "# Импортируем нужные библиотеки\n",
    "import cv2\n",
    "import time\n",
    "import numpy as np\n",
    "from tqdm.auto import tqdm\n",
    "import matplotlib.pyplot as plt\n",
    "import seaborn as sns\n",
    "import importlib\n",
    "%matplotlib inline"
   ]
  },
  {
   "cell_type": "code",
   "execution_count": 4,
   "metadata": {},
   "outputs": [],
   "source": [
    "#Библиотека для чтения видео\n",
    "class VideoReader:\n",
    "    def __init__(self, path):\n",
    "        self.cap = cv2.VideoCapture(path)\n",
    "        self.height = int(self.cap.get(4))\n",
    "        self.width = int(self.cap.get(3))\n",
    "    \n",
    "    def __iter__(self):\n",
    "        while(self.cap.isOpened()):\n",
    "            ret, frame = self.cap.read()\n",
    "            if ret == False:\n",
    "                break\n",
    "            yield frame\n",
    "    \n",
    "    def height(self):\n",
    "        return self.heigth\n",
    "    \n",
    "    def width(self):\n",
    "        return self.width\n",
    "    \n",
    "    def __del__(self):\n",
    "        self.cap.release()\n",
    "\n",
    "def generate_pair_frames_gray(video):\n",
    "    prev_frame = None\n",
    "    for frame in video:\n",
    "        frame = cv2.cvtColor(frame, cv2.COLOR_RGB2GRAY)\n",
    "        if prev_frame is None:\n",
    "            prev_frame = frame\n",
    "        else:\n",
    "            yield prev_frame, frame\n",
    "            prev_frame = frame"
   ]
  },
  {
   "cell_type": "code",
   "execution_count": 5,
   "metadata": {},
   "outputs": [],
   "source": [
    "def show_pair_frames(compensated_frame, frame, psnr_value):\n",
    "    fig = plt.figure(figsize=(16,7))\n",
    "    plt.suptitle('Значение PSNR: {:.4f}'.format(psnr_value), fontsize=24)\n",
    "    ax = fig.add_subplot(1, 2, 1)\n",
    "    ax.imshow(compensated_frame, cmap='gray')\n",
    "    ax.set_title(\"Скомпенсированный кадр\", fontsize=18)\n",
    "    ax.set_xticks([])\n",
    "    ax.set_yticks([])\n",
    "    ax = fig.add_subplot(1, 2, 2)\n",
    "    ax.imshow(frame, cmap='gray')\n",
    "    ax.set_title(\"Текущий кадр\", fontsize=18)\n",
    "    ax.set_xticks([])\n",
    "    ax.set_yticks([])"
   ]
  },
  {
   "cell_type": "code",
   "execution_count": 6,
   "metadata": {},
   "outputs": [],
   "source": [
    "def visualize_motion_vectors(img, ofs, block_size=16):\n",
    "    ver, hor = ofs[0], ofs[1]\n",
    "    ver = cv2.resize(ver, (ver.shape[1] // block_size, ver.shape[0] // block_size))\n",
    "    hor = cv2.resize(hor, (hor.shape[1] // block_size, hor.shape[0] // block_size))\n",
    "\n",
    "    height, width = ver.shape\n",
    "\n",
    "    xx, yy = np.meshgrid(np.arange(width), np.arange(height))\n",
    "\n",
    "    xx = block_size * (xx + 0.5)\n",
    "    yy = block_size * (yy + 0.5)\n",
    "    \n",
    "    plt.figure(figsize=(12, 12))\n",
    "    plt.imshow(img, cmap='gray', alpha=0.5)\n",
    "    plt.quiver(xx, yy, hor, -ver)\n",
    "    plt.xticks([])\n",
    "    plt.yticks([])"
   ]
  },
  {
   "cell_type": "code",
   "execution_count": 7,
   "metadata": {},
   "outputs": [],
   "source": [
    "from skimage.metrics import peak_signal_noise_ratio, structural_similarity\n",
    "\n",
    "# Простая функция для тестирования ME.\n",
    "def test_me(source_video, me, return_frames=False, result_path=None, return_ofs=False):\n",
    "    ssim = []\n",
    "    psnr = []\n",
    "    speed = []\n",
    "    compensated_frames = []\n",
    "    source_frames = []\n",
    "    ofs = []\n",
    "    out_video = None\n",
    "    if result_path is not None:\n",
    "        out_video = cv2.VideoWriter(\n",
    "            result_path,\n",
    "            cv2.VideoWriter_fourcc(*'mp4v'),\n",
    "            10,\n",
    "            (source_video.width, source_video.height * 2)\n",
    "        )\n",
    "     \n",
    "    pbar = tqdm(generate_pair_frames_gray(source_video))\n",
    "    for frame, prev_frame in pbar:\n",
    "        start = time.time()\n",
    "        result = me.Estimate(frame, prev_frame) # Запускаем me\n",
    "        end = time.time()\n",
    "        speed.append((end - start) * 1000)\n",
    "        compensated_frame = result.Remap(prev_frame) # Скомпенсированный кадр лежит тут. Полезно для дебага его отсюда доставать и рассматривать.\n",
    "        \n",
    "        ssim.append(structural_similarity(frame, compensated_frame, multichannel=False))\n",
    "        psnr.append(peak_signal_noise_ratio(frame, compensated_frame))\n",
    "        if return_frames:\n",
    "            compensated_frames.append(compensated_frame)\n",
    "            source_frames.append(frame)\n",
    "        if return_ofs:\n",
    "            ofs.append(result.ConvertToOF())\n",
    "        \n",
    "        \n",
    "        pbar.set_description('PSNR: {:.2f}; Time(ms): {:.2f}; SSIM: {:.2f}.'.format(np.mean(psnr), np.mean(speed), np.mean(ssim)))\n",
    "        \n",
    "        if out_video is not None:\n",
    "            out_video.write(cv2.cvtColor(np.vstack([frame, compensated_frame]), cv2.COLOR_GRAY2BGR))\n",
    "    if out_video is not None:\n",
    "        out_video.release()\n",
    "        \n",
    "    return {\n",
    "        'ssim': ssim,\n",
    "        'psnr': psnr,\n",
    "        'speed': speed,\n",
    "        'compensated_frames': compensated_frames,\n",
    "        'source_frames': source_frames,\n",
    "        'ofs': ofs\n",
    "    }"
   ]
  },
  {
   "cell_type": "markdown",
   "metadata": {},
   "source": [
    "## Ваше решение"
   ]
  },
  {
   "cell_type": "markdown",
   "metadata": {},
   "source": [
    "- В качестве решения вы должны прикрепить класс ниже.\n",
    "- Менять прототипы для init и Estimate **нельзя**.\n",
    "- **Должен** быть возможен вызов вида `test_me(video, me)`."
   ]
  },
  {
   "cell_type": "code",
   "execution_count": 8,
   "metadata": {},
   "outputs": [],
   "source": [
    "# GRADED CELL: MotionEstimator\n",
    "\n",
    "class MotionEstimator:\n",
    "    def __init__(self, width, height, quality, halfpixel):\n",
    "        import me_estimator\n",
    "        \n",
    "        self.width = width\n",
    "        self.height = height\n",
    "        self.quality = quality\n",
    "        self.halfpixel = halfpixel\n",
    "\n",
    "        # На данный момент в me_estimator реализован полный перебор - смотреть MotionEstimator::CEstimate\n",
    "        self.me = me_estimator.MotionEstimator(self.width, self.height, self.quality, self.halfpixel)\n",
    "\n",
    "    def Estimate(self, frame, prev_frame):\n",
    "        return self.me.Estimate(frame, prev_frame)"
   ]
  },
  {
   "cell_type": "markdown",
   "metadata": {},
   "source": [
    "**Если вы делали какие-то изменения, то не забудьте перезагрузить модуль. Для этого нажмите Kernel->Restart**"
   ]
  },
  {
   "cell_type": "markdown",
   "metadata": {},
   "source": [
    "Чтобы проверить, как работет библиотека, давайте проверим его на одной последовательности на самом хорошем качестве.  \n",
    "*То, что Ваше ME будет по качеству работать хуже полного перебора - это норма. Ваша задача - достаточно сильно ускорить ME, он должен работать ориентировочно за 5-10 мс на кадр. Ориентировочная точка - одно из самых лучших решений прошлого года на среднем ноутбуке показало **5.06ms и 35.1 psnr** на качестве 100.*"
   ]
  },
  {
   "cell_type": "code",
   "execution_count": 9,
   "metadata": {},
   "outputs": [
    {
     "name": "stderr",
     "output_type": "stream",
     "text": [
      "OpenCV: Couldn't read video stream from file \"video/source.avi\"\n",
      "[ERROR:0@7.647] global /Users/runner/work/opencv-python/opencv-python/opencv/modules/videoio/src/cap.cpp (166) open VIDEOIO(CV_IMAGES): raised OpenCV exception:\n",
      "\n",
      "OpenCV(4.6.0) /Users/runner/work/opencv-python/opencv-python/opencv/modules/videoio/src/cap_images.cpp:253: error: (-5:Bad argument) CAP_IMAGES: can't find starting number (in the name of file): video/source.avi in function 'icvExtractPattern'\n",
      "\n",
      "\n"
     ]
    },
    {
     "data": {
      "text/plain": "0it [00:00, ?it/s]",
      "application/vnd.jupyter.widget-view+json": {
       "version_major": 2,
       "version_minor": 0,
       "model_id": "7913fdfd6eda4f0f800cd5bd05b4b5d0"
      }
     },
     "metadata": {},
     "output_type": "display_data"
    }
   ],
   "source": [
    "video = VideoReader('video/source.avi')\n",
    "me = MotionEstimator(video.width, video.height, 100, False)\n",
    "result = test_me(video, me, True, 'result.mp4', True) # В result.mp4 сохраняем скомпенсированное видео, также в result будут лежать кадры"
   ]
  },
  {
   "cell_type": "markdown",
   "metadata": {},
   "source": [
    "Посмотрим на то, как компенсируется произвольный кадр:"
   ]
  },
  {
   "cell_type": "code",
   "execution_count": 10,
   "metadata": {},
   "outputs": [
    {
     "ename": "IndexError",
     "evalue": "list index out of range",
     "output_type": "error",
     "traceback": [
      "\u001B[0;31m---------------------------------------------------------------------------\u001B[0m",
      "\u001B[0;31mIndexError\u001B[0m                                Traceback (most recent call last)",
      "Cell \u001B[0;32mIn[10], line 3\u001B[0m\n\u001B[1;32m      1\u001B[0m frame_idx \u001B[38;5;241m=\u001B[39m \u001B[38;5;241m25\u001B[39m\n\u001B[1;32m      2\u001B[0m show_pair_frames(\n\u001B[0;32m----> 3\u001B[0m     \u001B[43mresult\u001B[49m\u001B[43m[\u001B[49m\u001B[38;5;124;43m'\u001B[39;49m\u001B[38;5;124;43mcompensated_frames\u001B[39;49m\u001B[38;5;124;43m'\u001B[39;49m\u001B[43m]\u001B[49m\u001B[43m[\u001B[49m\u001B[43mframe_idx\u001B[49m\u001B[43m]\u001B[49m,\n\u001B[1;32m      4\u001B[0m     result[\u001B[38;5;124m'\u001B[39m\u001B[38;5;124msource_frames\u001B[39m\u001B[38;5;124m'\u001B[39m][frame_idx],\n\u001B[1;32m      5\u001B[0m     result[\u001B[38;5;124m'\u001B[39m\u001B[38;5;124mpsnr\u001B[39m\u001B[38;5;124m'\u001B[39m][frame_idx]\n\u001B[1;32m      6\u001B[0m )\n",
      "\u001B[0;31mIndexError\u001B[0m: list index out of range"
     ]
    }
   ],
   "source": [
    "frame_idx = 25\n",
    "show_pair_frames(\n",
    "    result['compensated_frames'][frame_idx],\n",
    "    result['source_frames'][frame_idx],\n",
    "    result['psnr'][frame_idx]\n",
    ")"
   ]
  },
  {
   "cell_type": "markdown",
   "metadata": {},
   "source": [
    "Посмотрим на найденные вектора движения"
   ]
  },
  {
   "cell_type": "code",
   "execution_count": 11,
   "metadata": {
    "scrolled": false
   },
   "outputs": [
    {
     "ename": "IndexError",
     "evalue": "list index out of range",
     "output_type": "error",
     "traceback": [
      "\u001B[0;31m---------------------------------------------------------------------------\u001B[0m",
      "\u001B[0;31mIndexError\u001B[0m                                Traceback (most recent call last)",
      "Cell \u001B[0;32mIn[11], line 2\u001B[0m\n\u001B[1;32m      1\u001B[0m visualize_motion_vectors(\n\u001B[0;32m----> 2\u001B[0m     \u001B[43mresult\u001B[49m\u001B[43m[\u001B[49m\u001B[38;5;124;43m'\u001B[39;49m\u001B[38;5;124;43msource_frames\u001B[39;49m\u001B[38;5;124;43m'\u001B[39;49m\u001B[43m]\u001B[49m\u001B[43m[\u001B[49m\u001B[43mframe_idx\u001B[49m\u001B[43m]\u001B[49m,\n\u001B[1;32m      3\u001B[0m     result[\u001B[38;5;124m'\u001B[39m\u001B[38;5;124mofs\u001B[39m\u001B[38;5;124m'\u001B[39m][frame_idx]\n\u001B[1;32m      4\u001B[0m )\n",
      "\u001B[0;31mIndexError\u001B[0m: list index out of range"
     ]
    }
   ],
   "source": [
    "visualize_motion_vectors(\n",
    "    result['source_frames'][frame_idx],\n",
    "    result['ofs'][frame_idx]\n",
    ")"
   ]
  },
  {
   "cell_type": "markdown",
   "metadata": {},
   "source": [
    "Примером ниже можно посмотреть графики, как покадрово работает ваш алгоритм. "
   ]
  },
  {
   "cell_type": "code",
   "execution_count": 12,
   "metadata": {
    "scrolled": true
   },
   "outputs": [
    {
     "name": "stderr",
     "output_type": "stream",
     "text": [
      "/Users/leonidburtsev/Downloads/solution_template/venv/lib/python3.9/site-packages/numpy/core/fromnumeric.py:3432: RuntimeWarning: Mean of empty slice.\n",
      "  return _methods._mean(a, axis=axis, dtype=dtype,\n",
      "/Users/leonidburtsev/Downloads/solution_template/venv/lib/python3.9/site-packages/numpy/core/_methods.py:190: RuntimeWarning: invalid value encountered in double_scalars\n",
      "  ret = ret.dtype.type(ret / rcount)\n"
     ]
    },
    {
     "data": {
      "text/plain": "<Figure size 1200x600 with 0 Axes>"
     },
     "metadata": {},
     "output_type": "display_data"
    },
    {
     "data": {
      "text/plain": "<Figure size 1600x400 with 3 Axes>",
      "image/png": "[encoded data removed]"
     },
     "metadata": {},
     "output_type": "display_data"
    }
   ],
   "source": [
    "import matplotlib.pyplot as plt\n",
    "%matplotlib inline\n",
    "import seaborn as sns\n",
    "sns.set(\"notebook\")\n",
    "plt.figure(figsize=(12, 6))\n",
    "fig, (ax1, ax2, ax3) = plt.subplots(1, 3, figsize=(16, 4))\n",
    "\n",
    "ax1.plot(result['ssim'])\n",
    "ax1.set_title('SSIM: {}'.format(np.mean(result['ssim'])))\n",
    "ax2.plot(result['psnr'])\n",
    "ax2.set_title('PSNR: {}'.format(np.mean(result['psnr'])))\n",
    "ax3.plot(result['speed'])\n",
    "ax3.set_title('Time: {}'.format(np.mean(result['speed'])));"
   ]
  },
  {
   "cell_type": "code",
   "execution_count": 13,
   "metadata": {},
   "outputs": [],
   "source": [
    "import pandas as pd\n",
    "\n",
    "def test_all_me(video_paths=['source.avi'], qualities=[100, 80, 60, 40, 20], halfpixels=[False, True]):\n",
    "    result = []\n",
    "    for video_path in video_paths:\n",
    "        for halfpixel in halfpixels:\n",
    "            for quality in qualities:\n",
    "                video = VideoReader(video_path)\n",
    "                me = MotionEstimator(video.width, video.height, quality, halfpixel)\n",
    "                metrics = test_me(video, me)\n",
    "                result.append(\n",
    "                    {\n",
    "                        'video': video_path,\n",
    "                        'halfpixel': halfpixel,\n",
    "                        'quality': quality,\n",
    "                        **{\n",
    "                            key: np.mean(metrics[key])\n",
    "                            for key in metrics\n",
    "                        }\n",
    "                    }\n",
    "                )\n",
    "    return pd.DataFrame(result)"
   ]
  },
  {
   "cell_type": "code",
   "execution_count": 2,
   "metadata": {
    "scrolled": false
   },
   "outputs": [
    {
     "ename": "NameError",
     "evalue": "name 'VideoReader' is not defined",
     "output_type": "error",
     "traceback": [
      "\u001B[0;31m---------------------------------------------------------------------------\u001B[0m",
      "\u001B[0;31mNameError\u001B[0m                                 Traceback (most recent call last)",
      "Cell \u001B[0;32mIn[2], line 1\u001B[0m\n\u001B[0;32m----> 1\u001B[0m result_all \u001B[38;5;241m=\u001B[39m \u001B[43mtest_all_me\u001B[49m\u001B[43m(\u001B[49m\n\u001B[1;32m      2\u001B[0m \u001B[43m    \u001B[49m\u001B[43mvideo_paths\u001B[49m\u001B[38;5;241;43m=\u001B[39;49m\u001B[43m[\u001B[49m\u001B[38;5;124;43m'\u001B[39;49m\u001B[38;5;124;43mvideo/source.avi\u001B[39;49m\u001B[38;5;124;43m'\u001B[39;49m\u001B[43m]\u001B[49m\u001B[43m,\u001B[49m\n\u001B[1;32m      3\u001B[0m \u001B[43m    \u001B[49m\u001B[43mqualities\u001B[49m\u001B[38;5;241;43m=\u001B[39;49m\u001B[43m[\u001B[49m\u001B[38;5;241;43m100\u001B[39;49m\u001B[43m]\u001B[49m\u001B[43m,\u001B[49m\u001B[38;5;66;43;03m# 80, 60, 40, 20],\u001B[39;49;00m\n\u001B[1;32m      4\u001B[0m \u001B[43m    \u001B[49m\u001B[43mhalfpixels\u001B[49m\u001B[38;5;241;43m=\u001B[39;49m\u001B[43m[\u001B[49m\u001B[38;5;28;43;01mFalse\u001B[39;49;00m\u001B[43m]\u001B[49m\u001B[38;5;66;43;03m#, True]\u001B[39;49;00m\n\u001B[1;32m      5\u001B[0m \u001B[43m)\u001B[49m\n",
      "Cell \u001B[0;32mIn[1], line 8\u001B[0m, in \u001B[0;36mtest_all_me\u001B[0;34m(video_paths, qualities, halfpixels)\u001B[0m\n\u001B[1;32m      6\u001B[0m \u001B[38;5;28;01mfor\u001B[39;00m halfpixel \u001B[38;5;129;01min\u001B[39;00m halfpixels:\n\u001B[1;32m      7\u001B[0m     \u001B[38;5;28;01mfor\u001B[39;00m quality \u001B[38;5;129;01min\u001B[39;00m qualities:\n\u001B[0;32m----> 8\u001B[0m         video \u001B[38;5;241m=\u001B[39m \u001B[43mVideoReader\u001B[49m(video_path)\n\u001B[1;32m      9\u001B[0m         me \u001B[38;5;241m=\u001B[39m MotionEstimator(video\u001B[38;5;241m.\u001B[39mwidth, video\u001B[38;5;241m.\u001B[39mheight, quality, halfpixel)\n\u001B[1;32m     10\u001B[0m         metrics \u001B[38;5;241m=\u001B[39m test_me(video, me)\n",
      "\u001B[0;31mNameError\u001B[0m: name 'VideoReader' is not defined"
     ]
    }
   ],
   "source": [
    "result_all = test_all_me(\n",
    "    video_paths=['video/source.avi'],\n",
    "    qualities=[100],# 80, 60, 40, 20],\n",
    "    halfpixels=[False]#, True]\n",
    ")"
   ]
  },
  {
   "cell_type": "code",
   "execution_count": null,
   "metadata": {},
   "outputs": [],
   "source": [
    "result_all"
   ]
  },
  {
   "cell_type": "code",
   "execution_count": null,
   "metadata": {},
   "outputs": [],
   "source": [
    "fig, axes = plt.subplots(1, len(result_all['video'].unique()), figsize=(16, 4))\n",
    "if len(result_all['video'].unique()) == 1:\n",
    "    axes = [axes]\n",
    "for ax, video in zip(axes, result_all['video'].unique()):\n",
    "    sns.lineplot(x='speed', y='psnr', style='halfpixel', markers=True, data=result_all[result_all.video == video], ax=ax)"
   ]
  },
  {
   "cell_type": "markdown",
   "metadata": {},
   "source": [
    "## 2. Красивый вид кривых скорость/качество ##"
   ]
  },
  {
   "cell_type": "markdown",
   "metadata": {},
   "source": [
    "*Это бонусное задание, за него вы получите баллы независимо от результатов в конкурсе*\n",
    "\n",
    "Что хочется увидеть: у ME есть два ключевых параметра, определяющих его \"хорошесть\" - это скорость работы и качество сопоставления. Очевидно, можно написать метод, который делает полный перебор - он будет лучшим по качеству, но медленным, или наоборот - ничего не сопоставляем: ужасное качество, но замечательная скорость, Хочется, чтобы ваш алгоритм позволял варьировать скорость и качество и не уходил в такие крайности. Ниже пример кривых, которые были в прошлом году - хочется, чтобы форма кривых была как можно ближе к синей c треугольниками:"
   ]
  },
  {
   "cell_type": "markdown",
   "metadata": {},
   "source": [
    "<img src=\"images/curves.png\">"
   ]
  },
  {
   "cell_type": "markdown",
   "metadata": {},
   "source": [
    "## 3. Опиши что было сделано ##"
   ]
  },
  {
   "cell_type": "markdown",
   "metadata": {},
   "source": [
    "*Это тоже небольшое бонусное задание*  \n",
    "Пожалуйста, опиши (кратко) суть твоего алгоритма, какие алгоритмы за основу ты взял и что решил улучшить.  \n",
    "Также было бы неплохо, если ты приложишь графики, которые показывают, как каждое улучшение срабатывало.  \n",
    "Если хочешь, можешь здесь вести небольшой дневник - какие эксперименты ты проводил, какие у тебя были гипотезы и какие у тебя получались результаты"
   ]
  },
  {
   "cell_type": "code",
   "execution_count": null,
   "metadata": {},
   "outputs": [],
   "source": []
  },
  {
   "cell_type": "markdown",
   "metadata": {},
   "source": [
    "## 4. Немного подсказок"
   ]
  },
  {
   "cell_type": "markdown",
   "metadata": {},
   "source": [
    "* Напишите сначала какой-нибудь базовый алгоритм, который будет вашим бейзлайном. Затем вы будете его постепенно улучшать\n",
    "* После этого тестируйте каждое улучшение (одно улучшние - один эксперимент), чтобы не добавить в алгоритм то, что на самом деле ухушает алгоритм\n",
    "* Не стесняйтесь проводить всякие эксперименты вне кода. Например, можно самостоятельно построить пример рельефа ошибки при сопоставлении, смотреть, насколько близки вектора у соседних блоков, исследовать стабильность векторов блоков по времени. Это позволит каждому улучшению работать максимально эффективно."
   ]
  },
  {
   "cell_type": "markdown",
   "metadata": {},
   "source": [
    "## 5. Что такое halfpixel"
   ]
  },
  {
   "cell_type": "markdown",
   "metadata": {},
   "source": [
    "Пусть нам дан кадр размера 3x2 и мы нашли вектор движения на целочисленной сетке (на рисунке cерая). Чтобы уточнить результат, можно перейти к полупиксельной точности. Интерполируем значения пикселей в нецелых координатах (белых).\n",
    "\n",
    "<img src=\"images/halfpixel1.png\">\n",
    "Чтобы избежать работы с в нецелых координатах, будем представлять изображение в два раза большим, а все координаты целыми. Теперь найдем вектор сдвига на полученной сетке. Разделив его на два по каждой координате, мы перейдем назад к неинтерполированным координатам.\n",
    "\n",
    "В шаблоне уже реализована функция `generate_subpixel_arrays`. По входному кадру она генерирует выходной интерполированный. Интерполированный кадр хранится особым образом: это четыре массива `original`, `left`, `upper`, `upper left`, содержащие соответсвующие интерполированные пиксели. На рисунке изображен пример для кадра размера 3x2.\n",
    "\n",
    "<img src=\"images/halfpixel2.png\">"
   ]
  },
  {
   "cell_type": "markdown",
   "metadata": {},
   "source": [
    "Все кадры хранятся в виде одномерного массива. Доступ к конкретному пикселю осуществляется по формуле `y * width + x`. Кроме того для удобства каждый кадр окружен рамками — не придется заботиться о граничных условиях, но поменяется формула досутпа к пикселю. Все необходимые для этого смещения уже реализованы в бейзлайне."
   ]
  }
 ],
 "metadata": {
  "kernelspec": {
   "display_name": "Python 3 (ipykernel)",
   "language": "python",
   "name": "python3"
  },
  "language_info": {
   "codemirror_mode": {
    "name": "ipython",
    "version": 3
   },
   "file_extension": ".py",
   "mimetype": "text/x-python",
   "name": "python",
   "nbconvert_exporter": "python",
   "pygments_lexer": "ipython3",
   "version": "3.9.13"
  }
 },
 "nbformat": 4,
 "nbformat_minor": 2
}
